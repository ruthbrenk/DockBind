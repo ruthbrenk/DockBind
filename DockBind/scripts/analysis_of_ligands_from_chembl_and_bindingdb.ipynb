{
 "cells": [
  {
   "cell_type": "code",
   "execution_count": 2,
   "id": "00b04788",
   "metadata": {},
   "outputs": [],
   "source": [
    "%config Completer.use_jedi = False\n",
    "\n",
    "import os\n",
    "import pandas as pd\n",
    "from tqdm import tqdm\n",
    "import numpy as np\n",
    "from matplotlib import pyplot as plt\n",
    "import seaborn as sns\n",
    "from rdkit import Chem\n",
    "from rdkit.Chem import AllChem, rdFMCS, DataStructs, Draw\n",
    "import umap\n",
    "import matplotlib.pyplot as plt"
   ]
  },
  {
   "cell_type": "code",
   "execution_count": 3,
   "id": "3d58d3e8",
   "metadata": {},
   "outputs": [
    {
     "name": "stdout",
     "output_type": "stream",
     "text": [
      "<class 'pandas.core.frame.DataFrame'>\n",
      "RangeIndex: 596830 entries, 0 to 596829\n",
      "Data columns (total 14 columns):\n",
      " #   Column              Non-Null Count   Dtype  \n",
      "---  ------              --------------   -----  \n",
      " 0   accession           596830 non-null  object \n",
      " 1   molecule_chembl_id  596830 non-null  object \n",
      " 2   standard_type       596830 non-null  object \n",
      " 3   standard_relation   596830 non-null  object \n",
      " 4   standard_value      596830 non-null  float64\n",
      " 5   standard_units      596830 non-null  object \n",
      " 6   standard_inchi_key  596830 non-null  object \n",
      " 7   canonical_smiles    596830 non-null  object \n",
      " 8   target_chembl_id    596830 non-null  object \n",
      " 9   assay_chembl_id     596830 non-null  object \n",
      " 10  variant_id          18417 non-null   float64\n",
      " 11  chirality           596830 non-null  float64\n",
      " 12  activity_id         596830 non-null  float64\n",
      " 13  pchembl_value       596830 non-null  float64\n",
      "dtypes: float64(5), object(9)\n",
      "memory usage: 63.7+ MB\n"
     ]
    }
   ],
   "source": [
    "df = pd.read_csv('../data/ChEMBL_activities_for_bindingMOAD_2024.csv')\n",
    "df.info()"
   ]
  },
  {
   "cell_type": "code",
   "execution_count": 4,
   "id": "ccc41ef5",
   "metadata": {},
   "outputs": [
    {
     "data": {
      "text/plain": [
       "774"
      ]
     },
     "execution_count": 4,
     "metadata": {},
     "output_type": "execute_result"
    }
   ],
   "source": [
    "len(df.accession.unique())"
   ]
  },
  {
   "cell_type": "code",
   "execution_count": 5,
   "id": "4f48cb24",
   "metadata": {},
   "outputs": [
    {
     "data": {
      "text/plain": [
       "464258"
      ]
     },
     "execution_count": 5,
     "metadata": {},
     "output_type": "execute_result"
    }
   ],
   "source": [
    "len(df.drop_duplicates(subset=['accession', 'molecule_chembl_id']))"
   ]
  },
  {
   "cell_type": "code",
   "execution_count": 6,
   "id": "2e3dc2e5",
   "metadata": {},
   "outputs": [
    {
     "ename": "ParserError",
     "evalue": "Error tokenizing data. C error: Calling read(nbytes) on source failed. Try engine='python'.",
     "output_type": "error",
     "traceback": [
      "\u001b[0;31m---------------------------------------------------------------------------\u001b[0m",
      "\u001b[0;31mParserError\u001b[0m                               Traceback (most recent call last)",
      "Cell \u001b[0;32mIn[6], line 1\u001b[0m\n\u001b[0;32m----> 1\u001b[0m df \u001b[38;5;241m=\u001b[39m \u001b[43mpd\u001b[49m\u001b[38;5;241;43m.\u001b[39;49m\u001b[43mread_csv\u001b[49m\u001b[43m(\u001b[49m\u001b[38;5;124;43m'\u001b[39;49m\u001b[38;5;124;43m../data/BindingDB_activities_for_BindingMOAD_2024.csv\u001b[39;49m\u001b[38;5;124;43m'\u001b[39;49m\u001b[43m)\u001b[49m\n\u001b[1;32m      2\u001b[0m df \u001b[38;5;241m=\u001b[39m info()\n",
      "File \u001b[0;32m/scratch/software/miniconda3/envs/my-rdkit-env/lib/python3.10/site-packages/pandas/io/parsers/readers.py:1026\u001b[0m, in \u001b[0;36mread_csv\u001b[0;34m(filepath_or_buffer, sep, delimiter, header, names, index_col, usecols, dtype, engine, converters, true_values, false_values, skipinitialspace, skiprows, skipfooter, nrows, na_values, keep_default_na, na_filter, verbose, skip_blank_lines, parse_dates, infer_datetime_format, keep_date_col, date_parser, date_format, dayfirst, cache_dates, iterator, chunksize, compression, thousands, decimal, lineterminator, quotechar, quoting, doublequote, escapechar, comment, encoding, encoding_errors, dialect, on_bad_lines, delim_whitespace, low_memory, memory_map, float_precision, storage_options, dtype_backend)\u001b[0m\n\u001b[1;32m   1013\u001b[0m kwds_defaults \u001b[38;5;241m=\u001b[39m _refine_defaults_read(\n\u001b[1;32m   1014\u001b[0m     dialect,\n\u001b[1;32m   1015\u001b[0m     delimiter,\n\u001b[0;32m   (...)\u001b[0m\n\u001b[1;32m   1022\u001b[0m     dtype_backend\u001b[38;5;241m=\u001b[39mdtype_backend,\n\u001b[1;32m   1023\u001b[0m )\n\u001b[1;32m   1024\u001b[0m kwds\u001b[38;5;241m.\u001b[39mupdate(kwds_defaults)\n\u001b[0;32m-> 1026\u001b[0m \u001b[38;5;28;01mreturn\u001b[39;00m \u001b[43m_read\u001b[49m\u001b[43m(\u001b[49m\u001b[43mfilepath_or_buffer\u001b[49m\u001b[43m,\u001b[49m\u001b[43m \u001b[49m\u001b[43mkwds\u001b[49m\u001b[43m)\u001b[49m\n",
      "File \u001b[0;32m/scratch/software/miniconda3/envs/my-rdkit-env/lib/python3.10/site-packages/pandas/io/parsers/readers.py:626\u001b[0m, in \u001b[0;36m_read\u001b[0;34m(filepath_or_buffer, kwds)\u001b[0m\n\u001b[1;32m    623\u001b[0m     \u001b[38;5;28;01mreturn\u001b[39;00m parser\n\u001b[1;32m    625\u001b[0m \u001b[38;5;28;01mwith\u001b[39;00m parser:\n\u001b[0;32m--> 626\u001b[0m     \u001b[38;5;28;01mreturn\u001b[39;00m \u001b[43mparser\u001b[49m\u001b[38;5;241;43m.\u001b[39;49m\u001b[43mread\u001b[49m\u001b[43m(\u001b[49m\u001b[43mnrows\u001b[49m\u001b[43m)\u001b[49m\n",
      "File \u001b[0;32m/scratch/software/miniconda3/envs/my-rdkit-env/lib/python3.10/site-packages/pandas/io/parsers/readers.py:1923\u001b[0m, in \u001b[0;36mTextFileReader.read\u001b[0;34m(self, nrows)\u001b[0m\n\u001b[1;32m   1916\u001b[0m nrows \u001b[38;5;241m=\u001b[39m validate_integer(\u001b[38;5;124m\"\u001b[39m\u001b[38;5;124mnrows\u001b[39m\u001b[38;5;124m\"\u001b[39m, nrows)\n\u001b[1;32m   1917\u001b[0m \u001b[38;5;28;01mtry\u001b[39;00m:\n\u001b[1;32m   1918\u001b[0m     \u001b[38;5;66;03m# error: \"ParserBase\" has no attribute \"read\"\u001b[39;00m\n\u001b[1;32m   1919\u001b[0m     (\n\u001b[1;32m   1920\u001b[0m         index,\n\u001b[1;32m   1921\u001b[0m         columns,\n\u001b[1;32m   1922\u001b[0m         col_dict,\n\u001b[0;32m-> 1923\u001b[0m     ) \u001b[38;5;241m=\u001b[39m \u001b[38;5;28;43mself\u001b[39;49m\u001b[38;5;241;43m.\u001b[39;49m\u001b[43m_engine\u001b[49m\u001b[38;5;241;43m.\u001b[39;49m\u001b[43mread\u001b[49m\u001b[43m(\u001b[49m\u001b[43m  \u001b[49m\u001b[38;5;66;43;03m# type: ignore[attr-defined]\u001b[39;49;00m\n\u001b[1;32m   1924\u001b[0m \u001b[43m        \u001b[49m\u001b[43mnrows\u001b[49m\n\u001b[1;32m   1925\u001b[0m \u001b[43m    \u001b[49m\u001b[43m)\u001b[49m\n\u001b[1;32m   1926\u001b[0m \u001b[38;5;28;01mexcept\u001b[39;00m \u001b[38;5;167;01mException\u001b[39;00m:\n\u001b[1;32m   1927\u001b[0m     \u001b[38;5;28mself\u001b[39m\u001b[38;5;241m.\u001b[39mclose()\n",
      "File \u001b[0;32m/scratch/software/miniconda3/envs/my-rdkit-env/lib/python3.10/site-packages/pandas/io/parsers/c_parser_wrapper.py:234\u001b[0m, in \u001b[0;36mCParserWrapper.read\u001b[0;34m(self, nrows)\u001b[0m\n\u001b[1;32m    232\u001b[0m \u001b[38;5;28;01mtry\u001b[39;00m:\n\u001b[1;32m    233\u001b[0m     \u001b[38;5;28;01mif\u001b[39;00m \u001b[38;5;28mself\u001b[39m\u001b[38;5;241m.\u001b[39mlow_memory:\n\u001b[0;32m--> 234\u001b[0m         chunks \u001b[38;5;241m=\u001b[39m \u001b[38;5;28;43mself\u001b[39;49m\u001b[38;5;241;43m.\u001b[39;49m\u001b[43m_reader\u001b[49m\u001b[38;5;241;43m.\u001b[39;49m\u001b[43mread_low_memory\u001b[49m\u001b[43m(\u001b[49m\u001b[43mnrows\u001b[49m\u001b[43m)\u001b[49m\n\u001b[1;32m    235\u001b[0m         \u001b[38;5;66;03m# destructive to chunks\u001b[39;00m\n\u001b[1;32m    236\u001b[0m         data \u001b[38;5;241m=\u001b[39m _concatenate_chunks(chunks)\n",
      "File \u001b[0;32mparsers.pyx:838\u001b[0m, in \u001b[0;36mpandas._libs.parsers.TextReader.read_low_memory\u001b[0;34m()\u001b[0m\n",
      "File \u001b[0;32mparsers.pyx:905\u001b[0m, in \u001b[0;36mpandas._libs.parsers.TextReader._read_rows\u001b[0;34m()\u001b[0m\n",
      "File \u001b[0;32mparsers.pyx:874\u001b[0m, in \u001b[0;36mpandas._libs.parsers.TextReader._tokenize_rows\u001b[0;34m()\u001b[0m\n",
      "File \u001b[0;32mparsers.pyx:891\u001b[0m, in \u001b[0;36mpandas._libs.parsers.TextReader._check_tokenize_status\u001b[0;34m()\u001b[0m\n",
      "File \u001b[0;32mparsers.pyx:2061\u001b[0m, in \u001b[0;36mpandas._libs.parsers.raise_parser_error\u001b[0;34m()\u001b[0m\n",
      "\u001b[0;31mParserError\u001b[0m: Error tokenizing data. C error: Calling read(nbytes) on source failed. Try engine='python'."
     ]
    }
   ],
   "source": [
    "df = pd.read_csv('../data/BindingDB_activities_for_BindingMOAD_2024.csv')\n",
    "# df = info()"
   ]
  },
  {
   "cell_type": "code",
   "execution_count": null,
   "id": "89d90b58",
   "metadata": {},
   "outputs": [],
   "source": [
    "len(df['UniProt (SwissProt) Primary ID of Target Chain'].unique())"
   ]
  },
  {
   "cell_type": "code",
   "execution_count": null,
   "id": "059bfc18",
   "metadata": {},
   "outputs": [],
   "source": [
    "len(df.drop_duplicates(subset=['BindingDB MonomerID', 'UniProt (SwissProt) Primary ID of Target Chain']))"
   ]
  },
  {
   "cell_type": "markdown",
   "id": "b5cd4eb3",
   "metadata": {},
   "source": [
    "# Ligands to dock"
   ]
  },
  {
   "cell_type": "code",
   "execution_count": 7,
   "id": "9b4bd941",
   "metadata": {},
   "outputs": [],
   "source": [
    "che_to_dock = pd.read_csv('../data/ChEMBL_ligands_selected_for_docking.csv')\n",
    "bdb_to_dock = pd.read_csv('../data/BindingDB_ligands_selected_for_docking.csv')"
   ]
  },
  {
   "cell_type": "code",
   "execution_count": 8,
   "id": "7e4220bd",
   "metadata": {},
   "outputs": [],
   "source": [
    "che_to_dock = che_to_dock.rename(columns={'ChEMBL_ID': 'Docked',\n",
    "                                          'ChEMBL_Smiles': 'Docked_Smiles'\n",
    "                                         })\n",
    "bdb_to_dock = bdb_to_dock.rename(columns={'BindingDB_ID': 'Docked',\n",
    "                                          'BindingDB_Smiles': 'Docked_Smiles'\n",
    "                                         })\n",
    "bdb_to_dock['Docked'] = 'BINDINGDB' + bdb_to_dock.Docked.astype(str)"
   ]
  },
  {
   "cell_type": "code",
   "execution_count": 9,
   "id": "f582208c",
   "metadata": {},
   "outputs": [
    {
     "name": "stdout",
     "output_type": "stream",
     "text": [
      "28677\n",
      "649\n"
     ]
    }
   ],
   "source": [
    "print(len(che_to_dock.drop_duplicates(subset=['UniProt_ID', 'Docked'])))\n",
    "print(len(che_to_dock.drop_duplicates(subset=['UniProt_ID'])))\n"
   ]
  },
  {
   "cell_type": "code",
   "execution_count": 10,
   "id": "8f4330dd",
   "metadata": {},
   "outputs": [
    {
     "name": "stdout",
     "output_type": "stream",
     "text": [
      "36044\n",
      "540\n"
     ]
    }
   ],
   "source": [
    "print(len(bdb_to_dock.drop_duplicates(subset=['UniProt_ID', 'Docked'])))\n",
    "print(len(bdb_to_dock.drop_duplicates(subset=['UniProt_ID'])))"
   ]
  },
  {
   "cell_type": "code",
   "execution_count": 11,
   "id": "8cb5cba0",
   "metadata": {},
   "outputs": [
    {
     "data": {
      "text/html": [
       "<div>\n",
       "<style scoped>\n",
       "    .dataframe tbody tr th:only-of-type {\n",
       "        vertical-align: middle;\n",
       "    }\n",
       "\n",
       "    .dataframe tbody tr th {\n",
       "        vertical-align: top;\n",
       "    }\n",
       "\n",
       "    .dataframe thead th {\n",
       "        text-align: right;\n",
       "    }\n",
       "</style>\n",
       "<table border=\"1\" class=\"dataframe\">\n",
       "  <thead>\n",
       "    <tr style=\"text-align: right;\">\n",
       "      <th></th>\n",
       "      <th>UniProt_ID</th>\n",
       "      <th>BM_Template</th>\n",
       "      <th>BM_Smiles</th>\n",
       "      <th>Docked</th>\n",
       "      <th>Docked_Smiles</th>\n",
       "      <th>Tanimoto_Similarity</th>\n",
       "    </tr>\n",
       "  </thead>\n",
       "  <tbody>\n",
       "    <tr>\n",
       "      <th>0</th>\n",
       "      <td>A4TVL0</td>\n",
       "      <td>6R11_JOB</td>\n",
       "      <td>c1cc2c(cc1N)C(=O)N(C2=O)[C@H]3CC(=O)NC3=O</td>\n",
       "      <td>CHEMBL4455877</td>\n",
       "      <td>Nc1ccc2c(c1)C(=O)N(C1CC(=O)NC1=O)C2=O</td>\n",
       "      <td>1.00</td>\n",
       "    </tr>\n",
       "    <tr>\n",
       "      <th>1</th>\n",
       "      <td>A4TVL0</td>\n",
       "      <td>6R1D_JP5</td>\n",
       "      <td>c1ccc(cc1)COC(=O)N[C@H]2CC(=O)NC2=O</td>\n",
       "      <td>CHEMBL4464143</td>\n",
       "      <td>O=C1CC(NC(=O)OCc2ccccc2)C(=O)N1</td>\n",
       "      <td>1.00</td>\n",
       "    </tr>\n",
       "    <tr>\n",
       "      <th>2</th>\n",
       "      <td>A4TVL0</td>\n",
       "      <td>6R1D_JP5</td>\n",
       "      <td>c1ccc(cc1)COC(=O)N[C@H]2CC(=O)NC2=O</td>\n",
       "      <td>CHEMBL4556836</td>\n",
       "      <td>NCc1ccc(COC(=O)NC2CC(=O)NC2=O)cc1</td>\n",
       "      <td>0.77</td>\n",
       "    </tr>\n",
       "    <tr>\n",
       "      <th>3</th>\n",
       "      <td>A4TVL0</td>\n",
       "      <td>6R1K_JPB</td>\n",
       "      <td>c1c(cc(c(c1Cl)C(=O)N[C@H]2CC(=O)NC2=O)Cl)Cl</td>\n",
       "      <td>CHEMBL4437349</td>\n",
       "      <td>O=C1CC(NC(=O)c2c(Cl)cc(Cl)cc2Cl)C(=O)N1</td>\n",
       "      <td>1.00</td>\n",
       "    </tr>\n",
       "    <tr>\n",
       "      <th>4</th>\n",
       "      <td>A5H660</td>\n",
       "      <td>4BZ6_SHH</td>\n",
       "      <td>c1ccc(cc1)NC(=O)CCCCCCC(=O)NO</td>\n",
       "      <td>CHEMBL98</td>\n",
       "      <td>O=C(CCCCCCC(=O)Nc1ccccc1)NO</td>\n",
       "      <td>1.00</td>\n",
       "    </tr>\n",
       "    <tr>\n",
       "      <th>...</th>\n",
       "      <td>...</td>\n",
       "      <td>...</td>\n",
       "      <td>...</td>\n",
       "      <td>...</td>\n",
       "      <td>...</td>\n",
       "      <td>...</td>\n",
       "    </tr>\n",
       "    <tr>\n",
       "      <th>64521</th>\n",
       "      <td>Q9Y6F1</td>\n",
       "      <td>4L7R_M00</td>\n",
       "      <td>CC[C@@H](CO)NC(=O)CCC1=Nc2ccccc2C(=O)N1</td>\n",
       "      <td>BINDINGDB50444029</td>\n",
       "      <td>CC[C@@H](CO)NC(=O)CCc1nc2ccccc2c(=O)[nH]1</td>\n",
       "      <td>1.00</td>\n",
       "    </tr>\n",
       "    <tr>\n",
       "      <th>64522</th>\n",
       "      <td>Q9Y6F1</td>\n",
       "      <td>4L7R_M00</td>\n",
       "      <td>CC[C@@H](CO)NC(=O)CCC1=Nc2ccccc2C(=O)N1</td>\n",
       "      <td>BINDINGDB50444030</td>\n",
       "      <td>C[C@@H](CO)NC(=O)CCc1nc2ccccc2c(=O)[nH]1</td>\n",
       "      <td>0.93</td>\n",
       "    </tr>\n",
       "    <tr>\n",
       "      <th>64523</th>\n",
       "      <td>Q9Y6F1</td>\n",
       "      <td>4L7R_M00</td>\n",
       "      <td>CC[C@@H](CO)NC(=O)CCC1=Nc2ccccc2C(=O)N1</td>\n",
       "      <td>BINDINGDB50444033</td>\n",
       "      <td>OC[C@H](Cc1ccccc1)NC(=O)CCc1nc2ccccc2c(=O)[nH]1</td>\n",
       "      <td>0.82</td>\n",
       "    </tr>\n",
       "    <tr>\n",
       "      <th>64524</th>\n",
       "      <td>Q9ZLT0</td>\n",
       "      <td>2JFZ_003</td>\n",
       "      <td>CC(C)CN1c2c(c(n(n2)Cc3cccc4c3cccc4)c5ccncc5)C(...</td>\n",
       "      <td>BINDINGDB50421085</td>\n",
       "      <td>CC(C)Cn1c2nn(Cc3cccc4ccccc34)c(-c3cncn3C)c2c(=...</td>\n",
       "      <td>0.75</td>\n",
       "    </tr>\n",
       "    <tr>\n",
       "      <th>64525</th>\n",
       "      <td>Q9ZLT0</td>\n",
       "      <td>4B1F_KRH</td>\n",
       "      <td>CC(C)CN1c2c(c(n(n2)Cc3cccc4c3cccc4)c5cncn5C)C(...</td>\n",
       "      <td>BINDINGDB50421085</td>\n",
       "      <td>CC(C)Cn1c2nn(Cc3cccc4ccccc34)c(-c3cncn3C)c2c(=...</td>\n",
       "      <td>1.00</td>\n",
       "    </tr>\n",
       "  </tbody>\n",
       "</table>\n",
       "<p>108559 rows × 6 columns</p>\n",
       "</div>"
      ],
      "text/plain": [
       "      UniProt_ID BM_Template  \\\n",
       "0         A4TVL0    6R11_JOB   \n",
       "1         A4TVL0    6R1D_JP5   \n",
       "2         A4TVL0    6R1D_JP5   \n",
       "3         A4TVL0    6R1K_JPB   \n",
       "4         A5H660    4BZ6_SHH   \n",
       "...          ...         ...   \n",
       "64521     Q9Y6F1    4L7R_M00   \n",
       "64522     Q9Y6F1    4L7R_M00   \n",
       "64523     Q9Y6F1    4L7R_M00   \n",
       "64524     Q9ZLT0    2JFZ_003   \n",
       "64525     Q9ZLT0    4B1F_KRH   \n",
       "\n",
       "                                               BM_Smiles             Docked  \\\n",
       "0              c1cc2c(cc1N)C(=O)N(C2=O)[C@H]3CC(=O)NC3=O      CHEMBL4455877   \n",
       "1                    c1ccc(cc1)COC(=O)N[C@H]2CC(=O)NC2=O      CHEMBL4464143   \n",
       "2                    c1ccc(cc1)COC(=O)N[C@H]2CC(=O)NC2=O      CHEMBL4556836   \n",
       "3            c1c(cc(c(c1Cl)C(=O)N[C@H]2CC(=O)NC2=O)Cl)Cl      CHEMBL4437349   \n",
       "4                          c1ccc(cc1)NC(=O)CCCCCCC(=O)NO           CHEMBL98   \n",
       "...                                                  ...                ...   \n",
       "64521            CC[C@@H](CO)NC(=O)CCC1=Nc2ccccc2C(=O)N1  BINDINGDB50444029   \n",
       "64522            CC[C@@H](CO)NC(=O)CCC1=Nc2ccccc2C(=O)N1  BINDINGDB50444030   \n",
       "64523            CC[C@@H](CO)NC(=O)CCC1=Nc2ccccc2C(=O)N1  BINDINGDB50444033   \n",
       "64524  CC(C)CN1c2c(c(n(n2)Cc3cccc4c3cccc4)c5ccncc5)C(...  BINDINGDB50421085   \n",
       "64525  CC(C)CN1c2c(c(n(n2)Cc3cccc4c3cccc4)c5cncn5C)C(...  BINDINGDB50421085   \n",
       "\n",
       "                                           Docked_Smiles  Tanimoto_Similarity  \n",
       "0                  Nc1ccc2c(c1)C(=O)N(C1CC(=O)NC1=O)C2=O                 1.00  \n",
       "1                        O=C1CC(NC(=O)OCc2ccccc2)C(=O)N1                 1.00  \n",
       "2                      NCc1ccc(COC(=O)NC2CC(=O)NC2=O)cc1                 0.77  \n",
       "3                O=C1CC(NC(=O)c2c(Cl)cc(Cl)cc2Cl)C(=O)N1                 1.00  \n",
       "4                            O=C(CCCCCCC(=O)Nc1ccccc1)NO                 1.00  \n",
       "...                                                  ...                  ...  \n",
       "64521          CC[C@@H](CO)NC(=O)CCc1nc2ccccc2c(=O)[nH]1                 1.00  \n",
       "64522           C[C@@H](CO)NC(=O)CCc1nc2ccccc2c(=O)[nH]1                 0.93  \n",
       "64523    OC[C@H](Cc1ccccc1)NC(=O)CCc1nc2ccccc2c(=O)[nH]1                 0.82  \n",
       "64524  CC(C)Cn1c2nn(Cc3cccc4ccccc34)c(-c3cncn3C)c2c(=...                 0.75  \n",
       "64525  CC(C)Cn1c2nn(Cc3cccc4ccccc34)c(-c3cncn3C)c2c(=...                 1.00  \n",
       "\n",
       "[108559 rows x 6 columns]"
      ]
     },
     "execution_count": 11,
     "metadata": {},
     "output_type": "execute_result"
    }
   ],
   "source": [
    "combined_to_dock = pd.concat([che_to_dock, bdb_to_dock])\n",
    "combined_to_dock"
   ]
  },
  {
   "cell_type": "code",
   "execution_count": 12,
   "id": "f3e59af9",
   "metadata": {},
   "outputs": [],
   "source": [
    "unique_to_dock = combined_to_dock.drop_duplicates(subset=['UniProt_ID', 'Docked'])\n",
    "temp_lig = combined_to_dock.drop_duplicates(subset=['BM_Template', 'Docked'])"
   ]
  },
  {
   "cell_type": "code",
   "execution_count": 28,
   "id": "5938d027",
   "metadata": {},
   "outputs": [
    {
     "name": "stderr",
     "output_type": "stream",
     "text": [
      "/tmp/ipykernel_187175/2948389904.py:17: FutureWarning: The default of observed=False is deprecated and will be changed to True in a future version of pandas. Pass observed=False to retain current behavior or observed=True to adopt the future default and silence this warning.\n",
      "  binned_counts = (pair_counts_combined.groupby(['Bin', 'Source']).size().unstack(fill_value=0)\n"
     ]
    },
    {
     "data": {
      "image/png": "[encoded data removed]",
      "text/plain": [
       "<Figure size 800x500 with 1 Axes>"
      ]
     },
     "metadata": {},
     "output_type": "display_data"
    }
   ],
   "source": [
    "combined_to_dock['Source'] = combined_to_dock['Docked'].str.extract(r'^(CHEMBL|BINDINGDB)')\n",
    "\n",
    "# Count per UniProt_ID and source\n",
    "pair_counts = (combined_to_dock.groupby(['UniProt_ID', 'Source']).size().reset_index(name='Count'))\n",
    "\n",
    "# Count per UniProt_ID across all sources (total)\n",
    "total_counts = (combined_to_dock.groupby(['UniProt_ID']).size().reset_index(name='Count'))\n",
    "total_counts['Source'] = 'Total'\n",
    "\n",
    "pair_counts_combined = pd.concat([pair_counts, total_counts], ignore_index=True)\n",
    "\n",
    "bins = [0, 10, 25, 50, 100, float('inf')]\n",
    "labels = ['1–10', '11–25', '26–50', '51–100', '>100']\n",
    "\n",
    "pair_counts_combined['Bin'] = pd.cut(pair_counts_combined['Count'], bins=bins, labels=labels, right=True)\n",
    "\n",
    "binned_counts = (pair_counts_combined.groupby(['Bin', 'Source']).size().unstack(fill_value=0)\n",
    "                 .reindex(columns=['BINDINGDB', 'CHEMBL', 'Total']))\n",
    "\n",
    "x = np.arange(len(labels))\n",
    "width = 0.25\n",
    "sources = ['BINDINGDB', 'CHEMBL', 'Total']\n",
    "colors = {'BINDINGDB': 'skyblue', 'CHEMBL': 'orange', 'Total': 'green'}\n",
    "\n",
    "fig, ax = plt.subplots(figsize=(8, 5))\n",
    "for i, source in enumerate(sources):\n",
    "    offset = (i - 1) * width\n",
    "    ax.bar(x + offset, binned_counts[source], width, label=source, edgecolor='black', color=colors[source])\n",
    "\n",
    "ax.set_xlabel('Number of reference–ligand pairs per target', fontsize=12)\n",
    "ax.set_ylabel('Number of targets', fontsize=12)\n",
    "ax.set_xticks(x)\n",
    "ax.set_xticklabels(labels)\n",
    "\n",
    "custom_labels = {'BINDINGDB': 'BindingDB',\n",
    "                 'CHEMBL': 'ChEMBL',\n",
    "                 'Total': 'Combined'}\n",
    "\n",
    "handles, labels_ = ax.get_legend_handles_labels()\n",
    "new_labels = [custom_labels.get(label, label) for label in labels_]\n",
    "ax.legend(handles=handles, labels=new_labels,frameon=False)\n",
    "\n",
    "ax.spines['top'].set_visible(False)\n",
    "ax.spines['right'].set_visible(False)\n",
    "\n",
    "plt.tight_layout()\n",
    "plt.savefig('../images/ligands_per_target_selected_for_docking.png', dpi=300, bbox_inches='tight')\n",
    "plt.show()\n"
   ]
  },
  {
   "cell_type": "code",
   "execution_count": 65,
   "id": "919c8d6b",
   "metadata": {},
   "outputs": [
    {
     "data": {
      "text/html": [
       "<div>\n",
       "<style scoped>\n",
       "    .dataframe tbody tr th:only-of-type {\n",
       "        vertical-align: middle;\n",
       "    }\n",
       "\n",
       "    .dataframe tbody tr th {\n",
       "        vertical-align: top;\n",
       "    }\n",
       "\n",
       "    .dataframe thead th {\n",
       "        text-align: right;\n",
       "    }\n",
       "</style>\n",
       "<table border=\"1\" class=\"dataframe\">\n",
       "  <thead>\n",
       "    <tr style=\"text-align: right;\">\n",
       "      <th></th>\n",
       "      <th>UniProt_ID</th>\n",
       "      <th>BM_Template</th>\n",
       "      <th>BM_Smiles</th>\n",
       "      <th>Docked</th>\n",
       "      <th>Docked_Smiles</th>\n",
       "      <th>Tanimoto_Similarity</th>\n",
       "      <th>Source</th>\n",
       "    </tr>\n",
       "  </thead>\n",
       "  <tbody>\n",
       "    <tr>\n",
       "      <th>0</th>\n",
       "      <td>A4TVL0</td>\n",
       "      <td>6R11_JOB</td>\n",
       "      <td>c1cc2c(cc1N)C(=O)N(C2=O)[C@H]3CC(=O)NC3=O</td>\n",
       "      <td>CHEMBL4455877</td>\n",
       "      <td>Nc1ccc2c(c1)C(=O)N(C1CC(=O)NC1=O)C2=O</td>\n",
       "      <td>1.00</td>\n",
       "      <td>CHEMBL</td>\n",
       "    </tr>\n",
       "    <tr>\n",
       "      <th>1</th>\n",
       "      <td>A4TVL0</td>\n",
       "      <td>6R1D_JP5</td>\n",
       "      <td>c1ccc(cc1)COC(=O)N[C@H]2CC(=O)NC2=O</td>\n",
       "      <td>CHEMBL4464143</td>\n",
       "      <td>O=C1CC(NC(=O)OCc2ccccc2)C(=O)N1</td>\n",
       "      <td>1.00</td>\n",
       "      <td>CHEMBL</td>\n",
       "    </tr>\n",
       "    <tr>\n",
       "      <th>2</th>\n",
       "      <td>A4TVL0</td>\n",
       "      <td>6R1D_JP5</td>\n",
       "      <td>c1ccc(cc1)COC(=O)N[C@H]2CC(=O)NC2=O</td>\n",
       "      <td>CHEMBL4556836</td>\n",
       "      <td>NCc1ccc(COC(=O)NC2CC(=O)NC2=O)cc1</td>\n",
       "      <td>0.77</td>\n",
       "      <td>CHEMBL</td>\n",
       "    </tr>\n",
       "    <tr>\n",
       "      <th>3</th>\n",
       "      <td>A4TVL0</td>\n",
       "      <td>6R1K_JPB</td>\n",
       "      <td>c1c(cc(c(c1Cl)C(=O)N[C@H]2CC(=O)NC2=O)Cl)Cl</td>\n",
       "      <td>CHEMBL4437349</td>\n",
       "      <td>O=C1CC(NC(=O)c2c(Cl)cc(Cl)cc2Cl)C(=O)N1</td>\n",
       "      <td>1.00</td>\n",
       "      <td>CHEMBL</td>\n",
       "    </tr>\n",
       "    <tr>\n",
       "      <th>4</th>\n",
       "      <td>A5H660</td>\n",
       "      <td>4BZ6_SHH</td>\n",
       "      <td>c1ccc(cc1)NC(=O)CCCCCCC(=O)NO</td>\n",
       "      <td>CHEMBL98</td>\n",
       "      <td>O=C(CCCCCCC(=O)Nc1ccccc1)NO</td>\n",
       "      <td>1.00</td>\n",
       "      <td>CHEMBL</td>\n",
       "    </tr>\n",
       "    <tr>\n",
       "      <th>...</th>\n",
       "      <td>...</td>\n",
       "      <td>...</td>\n",
       "      <td>...</td>\n",
       "      <td>...</td>\n",
       "      <td>...</td>\n",
       "      <td>...</td>\n",
       "      <td>...</td>\n",
       "    </tr>\n",
       "    <tr>\n",
       "      <th>64521</th>\n",
       "      <td>Q9Y6F1</td>\n",
       "      <td>4L7R_M00</td>\n",
       "      <td>CC[C@@H](CO)NC(=O)CCC1=Nc2ccccc2C(=O)N1</td>\n",
       "      <td>BINDINGDB50444029</td>\n",
       "      <td>CC[C@@H](CO)NC(=O)CCc1nc2ccccc2c(=O)[nH]1</td>\n",
       "      <td>1.00</td>\n",
       "      <td>BINDINGDB</td>\n",
       "    </tr>\n",
       "    <tr>\n",
       "      <th>64522</th>\n",
       "      <td>Q9Y6F1</td>\n",
       "      <td>4L7R_M00</td>\n",
       "      <td>CC[C@@H](CO)NC(=O)CCC1=Nc2ccccc2C(=O)N1</td>\n",
       "      <td>BINDINGDB50444030</td>\n",
       "      <td>C[C@@H](CO)NC(=O)CCc1nc2ccccc2c(=O)[nH]1</td>\n",
       "      <td>0.93</td>\n",
       "      <td>BINDINGDB</td>\n",
       "    </tr>\n",
       "    <tr>\n",
       "      <th>64523</th>\n",
       "      <td>Q9Y6F1</td>\n",
       "      <td>4L7R_M00</td>\n",
       "      <td>CC[C@@H](CO)NC(=O)CCC1=Nc2ccccc2C(=O)N1</td>\n",
       "      <td>BINDINGDB50444033</td>\n",
       "      <td>OC[C@H](Cc1ccccc1)NC(=O)CCc1nc2ccccc2c(=O)[nH]1</td>\n",
       "      <td>0.82</td>\n",
       "      <td>BINDINGDB</td>\n",
       "    </tr>\n",
       "    <tr>\n",
       "      <th>64524</th>\n",
       "      <td>Q9ZLT0</td>\n",
       "      <td>2JFZ_003</td>\n",
       "      <td>CC(C)CN1c2c(c(n(n2)Cc3cccc4c3cccc4)c5ccncc5)C(...</td>\n",
       "      <td>BINDINGDB50421085</td>\n",
       "      <td>CC(C)Cn1c2nn(Cc3cccc4ccccc34)c(-c3cncn3C)c2c(=...</td>\n",
       "      <td>0.75</td>\n",
       "      <td>BINDINGDB</td>\n",
       "    </tr>\n",
       "    <tr>\n",
       "      <th>64525</th>\n",
       "      <td>Q9ZLT0</td>\n",
       "      <td>4B1F_KRH</td>\n",
       "      <td>CC(C)CN1c2c(c(n(n2)Cc3cccc4c3cccc4)c5cncn5C)C(...</td>\n",
       "      <td>BINDINGDB50421085</td>\n",
       "      <td>CC(C)Cn1c2nn(Cc3cccc4ccccc34)c(-c3cncn3C)c2c(=...</td>\n",
       "      <td>1.00</td>\n",
       "      <td>BINDINGDB</td>\n",
       "    </tr>\n",
       "  </tbody>\n",
       "</table>\n",
       "<p>108559 rows × 7 columns</p>\n",
       "</div>"
      ],
      "text/plain": [
       "      UniProt_ID BM_Template  \\\n",
       "0         A4TVL0    6R11_JOB   \n",
       "1         A4TVL0    6R1D_JP5   \n",
       "2         A4TVL0    6R1D_JP5   \n",
       "3         A4TVL0    6R1K_JPB   \n",
       "4         A5H660    4BZ6_SHH   \n",
       "...          ...         ...   \n",
       "64521     Q9Y6F1    4L7R_M00   \n",
       "64522     Q9Y6F1    4L7R_M00   \n",
       "64523     Q9Y6F1    4L7R_M00   \n",
       "64524     Q9ZLT0    2JFZ_003   \n",
       "64525     Q9ZLT0    4B1F_KRH   \n",
       "\n",
       "                                               BM_Smiles             Docked  \\\n",
       "0              c1cc2c(cc1N)C(=O)N(C2=O)[C@H]3CC(=O)NC3=O      CHEMBL4455877   \n",
       "1                    c1ccc(cc1)COC(=O)N[C@H]2CC(=O)NC2=O      CHEMBL4464143   \n",
       "2                    c1ccc(cc1)COC(=O)N[C@H]2CC(=O)NC2=O      CHEMBL4556836   \n",
       "3            c1c(cc(c(c1Cl)C(=O)N[C@H]2CC(=O)NC2=O)Cl)Cl      CHEMBL4437349   \n",
       "4                          c1ccc(cc1)NC(=O)CCCCCCC(=O)NO           CHEMBL98   \n",
       "...                                                  ...                ...   \n",
       "64521            CC[C@@H](CO)NC(=O)CCC1=Nc2ccccc2C(=O)N1  BINDINGDB50444029   \n",
       "64522            CC[C@@H](CO)NC(=O)CCC1=Nc2ccccc2C(=O)N1  BINDINGDB50444030   \n",
       "64523            CC[C@@H](CO)NC(=O)CCC1=Nc2ccccc2C(=O)N1  BINDINGDB50444033   \n",
       "64524  CC(C)CN1c2c(c(n(n2)Cc3cccc4c3cccc4)c5ccncc5)C(...  BINDINGDB50421085   \n",
       "64525  CC(C)CN1c2c(c(n(n2)Cc3cccc4c3cccc4)c5cncn5C)C(...  BINDINGDB50421085   \n",
       "\n",
       "                                           Docked_Smiles  Tanimoto_Similarity  \\\n",
       "0                  Nc1ccc2c(c1)C(=O)N(C1CC(=O)NC1=O)C2=O                 1.00   \n",
       "1                        O=C1CC(NC(=O)OCc2ccccc2)C(=O)N1                 1.00   \n",
       "2                      NCc1ccc(COC(=O)NC2CC(=O)NC2=O)cc1                 0.77   \n",
       "3                O=C1CC(NC(=O)c2c(Cl)cc(Cl)cc2Cl)C(=O)N1                 1.00   \n",
       "4                            O=C(CCCCCCC(=O)Nc1ccccc1)NO                 1.00   \n",
       "...                                                  ...                  ...   \n",
       "64521          CC[C@@H](CO)NC(=O)CCc1nc2ccccc2c(=O)[nH]1                 1.00   \n",
       "64522           C[C@@H](CO)NC(=O)CCc1nc2ccccc2c(=O)[nH]1                 0.93   \n",
       "64523    OC[C@H](Cc1ccccc1)NC(=O)CCc1nc2ccccc2c(=O)[nH]1                 0.82   \n",
       "64524  CC(C)Cn1c2nn(Cc3cccc4ccccc34)c(-c3cncn3C)c2c(=...                 0.75   \n",
       "64525  CC(C)Cn1c2nn(Cc3cccc4ccccc34)c(-c3cncn3C)c2c(=...                 1.00   \n",
       "\n",
       "          Source  \n",
       "0         CHEMBL  \n",
       "1         CHEMBL  \n",
       "2         CHEMBL  \n",
       "3         CHEMBL  \n",
       "4         CHEMBL  \n",
       "...          ...  \n",
       "64521  BINDINGDB  \n",
       "64522  BINDINGDB  \n",
       "64523  BINDINGDB  \n",
       "64524  BINDINGDB  \n",
       "64525  BINDINGDB  \n",
       "\n",
       "[108559 rows x 7 columns]"
      ]
     },
     "execution_count": 65,
     "metadata": {},
     "output_type": "execute_result"
    }
   ],
   "source": [
    "combined_to_dock"
   ]
  },
  {
   "cell_type": "code",
   "execution_count": 38,
   "id": "fad616f5",
   "metadata": {},
   "outputs": [
    {
     "name": "stdout",
     "output_type": "stream",
     "text": [
      "Target-ligand pairs: 64721\n",
      "Reference-ligand pairs: 108559\n",
      "Unique ligands: 61621\n",
      "Unique ligands: 6518\n",
      "Unique targets: 683\n"
     ]
    }
   ],
   "source": [
    "print(f'Target-ligand pairs: {len(unique_to_dock)}')\n",
    "print(f'Reference-ligand pairs: {len(temp_lig)}')\n",
    "\n",
    "print(f'Unique ligands: {len(unique_to_dock.Docked.unique())}')\n",
    "print(f'Unique templates: {len(unique_to_dock.BM_Template.unique())}')\n",
    "print(f'Unique targets: {len(unique_to_dock.UniProt_ID.unique())}')\n"
   ]
  }
 ],
 "metadata": {
  "kernelspec": {
   "display_name": "Python [conda env:my-rdkit-env]",
   "language": "python",
   "name": "conda-env-my-rdkit-env-py"
  },
  "language_info": {
   "codemirror_mode": {
    "name": "ipython",
    "version": 3
   },
   "file_extension": ".py",
   "mimetype": "text/x-python",
   "name": "python",
   "nbconvert_exporter": "python",
   "pygments_lexer": "ipython3",
   "version": "3.10.16"
  }
 },
 "nbformat": 4,
 "nbformat_minor": 5
}
